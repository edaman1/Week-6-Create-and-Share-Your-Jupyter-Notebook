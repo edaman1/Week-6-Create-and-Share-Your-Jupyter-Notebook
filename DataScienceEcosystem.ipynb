{
 "cells": [
  {
   "cell_type": "code",
   "execution_count": null,
   "id": "d6c1edb0-18ae-47ba-a47c-42b88a98c313",
   "metadata": {
    "tags": []
   },
   "outputs": [],
   "source": [
    "# Data Science Tools and Ecosystem"
   ]
  },
  {
   "cell_type": "code",
   "execution_count": null,
   "id": "77427da0-d97e-4886-a7e5-dbb40508f5e8",
   "metadata": {},
   "outputs": [],
   "source": [
    "In this notebook, Data Science Tools and Ecosystem are summarized\n",
    "\n",
    "__Objectives__\n",
    "\n",
    "- Python\n",
    "- R\n",
    "- Javascript\n",
    "- Ruby\n",
    "- Java"
   ]
  },
  {
   "cell_type": "markdown",
   "id": "6c0ada4c-aab7-4e98-b7d2-d465ac0d241e",
   "metadata": {},
   "source": [
    "Some of the popular languages that Data Scientists use are:\n",
    "    \n",
    "    1. Python\n",
    "    2. Java\n",
    "    3. C++\n",
    "    4. C"
   ]
  },
  {
   "cell_type": "markdown",
   "id": "ffbdf725-3c80-4dc9-9c7a-8b67f23d3165",
   "metadata": {},
   "source": [
    "Some of the commonly used libraries used by Data Scientists include:\n",
    "    \n",
    "    1. Numpy\n",
    "    2. Matplotlib\n",
    "    3. Keras"
   ]
  },
  {
   "cell_type": "markdown",
   "id": "41784af6-84dc-493f-9893-ac4973183cb0",
   "metadata": {},
   "source": [
    "|Data Science Tools|\n",
    "|------------------|\n",
    "  |RStudio|\n",
    "  |TensorFlow|\n",
    "  |Apache Hadoop| \n"
   ]
  },
  {
   "cell_type": "markdown",
   "id": "e05f1a77-7d02-4956-84d7-649bb49de4a7",
   "metadata": {},
   "source": [
    "### Below are a few examples of evaluating arithmetic expressions in Python\n",
    "\n",
    "$ a^2 + b^2 = c^2 $\n",
    "\n",
    "$ x^2 - 3xy + 2y^2 $\n",
    "\n",
    "$ 2x + 3Y - 7 $"
   ]
  },
  {
   "cell_type": "code",
   "execution_count": 10,
   "id": "b831e764-9ec4-489c-87c6-821c1360a619",
   "metadata": {
    "tags": []
   },
   "outputs": [
    {
     "name": "stdout",
     "output_type": "stream",
     "text": [
      "17\n"
     ]
    }
   ],
   "source": [
    "\"This is a simple arithmetic expression to multiply  then add integers\"\n",
    "\n",
    "result = (3*4)+5\n",
    "print(result)"
   ]
  },
  {
   "cell_type": "code",
   "execution_count": 11,
   "id": "c5bbabee-8cbf-4280-b2be-7c05f3d9640c",
   "metadata": {
    "tags": []
   },
   "outputs": [
    {
     "name": "stdout",
     "output_type": "stream",
     "text": [
      "3.3333333333333335\n"
     ]
    }
   ],
   "source": [
    "\"This will convert 200 minutes to hours by dividing by 60\"\n",
    "\n",
    "hours = 200 / 60\n",
    "print(hours)"
   ]
  },
  {
   "cell_type": "code",
   "execution_count": null,
   "id": "a316b5bb-7474-4268-b1cc-10c36b2f40d3",
   "metadata": {},
   "outputs": [],
   "source": [
    "__Objectives__\n",
    "- Python\n",
    "- R\n",
    "- Javascript\n",
    "- Ruby\n",
    "- Java\n"
   ]
  },
  {
   "cell_type": "markdown",
   "id": "eb46b4dd-bc12-4243-ba94-45ba0fd187b8",
   "metadata": {},
   "source": [
    "## Author\n",
    "Louis Pulido\n"
   ]
  },
  {
   "cell_type": "code",
   "execution_count": null,
   "id": "7e9e1c43-ee0c-49c6-97f5-04721464d1d8",
   "metadata": {},
   "outputs": [],
   "source": []
  }
 ],
 "metadata": {
  "kernelspec": {
   "display_name": "Python",
   "language": "python",
   "name": "conda-env-python-py"
  },
  "language_info": {
   "codemirror_mode": {
    "name": "ipython",
    "version": 3
   },
   "file_extension": ".py",
   "mimetype": "text/x-python",
   "name": "python",
   "nbconvert_exporter": "python",
   "pygments_lexer": "ipython3",
   "version": "3.7.12"
  }
 },
 "nbformat": 4,
 "nbformat_minor": 5
}
